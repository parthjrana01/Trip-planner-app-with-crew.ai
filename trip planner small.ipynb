{
 "cells": [
  {
   "cell_type": "code",
   "execution_count": 1,
   "id": "7f6f6ffb",
   "metadata": {},
   "outputs": [
    {
     "name": "stderr",
     "output_type": "stream",
     "text": [
      "WARNING: Retrying (Retry(total=4, connect=None, read=None, redirect=None, status=None)) after connection broken by 'NewConnectionError('<pip._vendor.urllib3.connection.HTTPSConnection object at 0x00000202ADEAFDF0>: Failed to establish a new connection: [Errno 11001] getaddrinfo failed')': /simple/crewai/\n",
      "WARNING: Retrying (Retry(total=3, connect=None, read=None, redirect=None, status=None)) after connection broken by 'NewConnectionError('<pip._vendor.urllib3.connection.HTTPSConnection object at 0x00000202ADED2160>: Failed to establish a new connection: [Errno 11001] getaddrinfo failed')': /simple/crewai/\n",
      "WARNING: Retrying (Retry(total=2, connect=None, read=None, redirect=None, status=None)) after connection broken by 'NewConnectionError('<pip._vendor.urllib3.connection.HTTPSConnection object at 0x00000202ADED2460>: Failed to establish a new connection: [Errno 11001] getaddrinfo failed')': /simple/crewai/\n",
      "WARNING: Retrying (Retry(total=1, connect=None, read=None, redirect=None, status=None)) after connection broken by 'NewConnectionError('<pip._vendor.urllib3.connection.HTTPSConnection object at 0x00000202ADED2610>: Failed to establish a new connection: [Errno 11001] getaddrinfo failed')': /simple/crewai/\n",
      "WARNING: Retrying (Retry(total=0, connect=None, read=None, redirect=None, status=None)) after connection broken by 'NewConnectionError('<pip._vendor.urllib3.connection.HTTPSConnection object at 0x00000202ADED27C0>: Failed to establish a new connection: [Errno 11001] getaddrinfo failed')': /simple/crewai/\n",
      "ERROR: Could not find a version that satisfies the requirement crewai (from versions: none)\n",
      "ERROR: No matching distribution found for crewai\n",
      "WARNING: There was an error checking the latest version of pip.\n",
      "WARNING: Retrying (Retry(total=4, connect=None, read=None, redirect=None, status=None)) after connection broken by 'NewConnectionError('<pip._vendor.urllib3.connection.HTTPSConnection object at 0x000002522C3ADDF0>: Failed to establish a new connection: [Errno 11001] getaddrinfo failed')': /simple/groq/\n",
      "WARNING: Retrying (Retry(total=3, connect=None, read=None, redirect=None, status=None)) after connection broken by 'NewConnectionError('<pip._vendor.urllib3.connection.HTTPSConnection object at 0x000002522C3D1160>: Failed to establish a new connection: [Errno 11001] getaddrinfo failed')': /simple/groq/\n",
      "WARNING: Retrying (Retry(total=2, connect=None, read=None, redirect=None, status=None)) after connection broken by 'NewConnectionError('<pip._vendor.urllib3.connection.HTTPSConnection object at 0x000002522C3D1460>: Failed to establish a new connection: [Errno 11001] getaddrinfo failed')': /simple/groq/\n",
      "WARNING: Retrying (Retry(total=1, connect=None, read=None, redirect=None, status=None)) after connection broken by 'NewConnectionError('<pip._vendor.urllib3.connection.HTTPSConnection object at 0x000002522C3D1610>: Failed to establish a new connection: [Errno 11001] getaddrinfo failed')': /simple/groq/\n",
      "WARNING: Retrying (Retry(total=0, connect=None, read=None, redirect=None, status=None)) after connection broken by 'NewConnectionError('<pip._vendor.urllib3.connection.HTTPSConnection object at 0x000002522C3D17C0>: Failed to establish a new connection: [Errno 11001] getaddrinfo failed')': /simple/groq/\n",
      "ERROR: Could not find a version that satisfies the requirement groq (from versions: none)\n",
      "ERROR: No matching distribution found for groq\n",
      "WARNING: There was an error checking the latest version of pip.\n",
      "WARNING: Retrying (Retry(total=4, connect=None, read=None, redirect=None, status=None)) after connection broken by 'NewConnectionError('<pip._vendor.urllib3.connection.HTTPSConnection object at 0x000001B1ED66D430>: Failed to establish a new connection: [Errno 11001] getaddrinfo failed')': /simple/langchain-groq/\n",
      "WARNING: Retrying (Retry(total=3, connect=None, read=None, redirect=None, status=None)) after connection broken by 'NewConnectionError('<pip._vendor.urllib3.connection.HTTPSConnection object at 0x000001B1ED66D760>: Failed to establish a new connection: [Errno 11001] getaddrinfo failed')': /simple/langchain-groq/\n",
      "WARNING: Retrying (Retry(total=2, connect=None, read=None, redirect=None, status=None)) after connection broken by 'NewConnectionError('<pip._vendor.urllib3.connection.HTTPSConnection object at 0x000001B1ED67E580>: Failed to establish a new connection: [Errno 11001] getaddrinfo failed')': /simple/langchain-groq/\n",
      "WARNING: Retrying (Retry(total=1, connect=None, read=None, redirect=None, status=None)) after connection broken by 'NewConnectionError('<pip._vendor.urllib3.connection.HTTPSConnection object at 0x000001B1ED67E730>: Failed to establish a new connection: [Errno 11001] getaddrinfo failed')': /simple/langchain-groq/\n",
      "WARNING: Retrying (Retry(total=0, connect=None, read=None, redirect=None, status=None)) after connection broken by 'NewConnectionError('<pip._vendor.urllib3.connection.HTTPSConnection object at 0x000001B1ED67E8E0>: Failed to establish a new connection: [Errno 11001] getaddrinfo failed')': /simple/langchain-groq/\n",
      "ERROR: Could not find a version that satisfies the requirement langchain_groq (from versions: none)\n",
      "ERROR: No matching distribution found for langchain_groq\n",
      "WARNING: There was an error checking the latest version of pip.\n",
      "ERROR: Invalid requirement: \"'crewai[tools]'\"\n",
      "WARNING: There was an error checking the latest version of pip.\n"
     ]
    }
   ],
   "source": [
    "!pip install crewai\n",
    "!pip install groq\n",
    "!pip install langchain_groq\n",
    "!pip install 'crewai[tools]'"
   ]
  },
  {
   "cell_type": "code",
   "execution_count": null,
   "id": "d4a296d6",
   "metadata": {},
   "outputs": [],
   "source": [
    "from google.colab import userdata\n",
    "groq_api_key=userdata.get('GROQ_API_KEY')\n",
    "serper_api_key=userdata.get('SERPER_API_KEY')"
   ]
  },
  {
   "cell_type": "code",
   "execution_count": null,
   "id": "e4481f14",
   "metadata": {},
   "outputs": [],
   "source": [
    "from langchain_groq import ChatGroq\n",
    "\n",
    "# my LLM model - using groq for fast response - using llama3-8b model\n",
    "llm = ChatGroq(groq_api_key=groq_api_key,\n",
    "               model_name=\"llama3-8b-8192\")"
   ]
  },
  {
   "cell_type": "code",
   "execution_count": 3,
   "id": "851441d5",
   "metadata": {},
   "outputs": [
    {
     "ename": "ModuleNotFoundError",
     "evalue": "No module named 'crewai'",
     "output_type": "error",
     "traceback": [
      "\u001b[1;31m---------------------------------------------------------------------------\u001b[0m",
      "\u001b[1;31mModuleNotFoundError\u001b[0m                       Traceback (most recent call last)",
      "\u001b[1;32m~\\AppData\\Local\\Temp\\ipykernel_24300\\97249572.py\u001b[0m in \u001b[0;36m<module>\u001b[1;34m\u001b[0m\n\u001b[1;32m----> 1\u001b[1;33m \u001b[1;32mfrom\u001b[0m \u001b[0mcrewai\u001b[0m \u001b[1;32mimport\u001b[0m \u001b[0mAgent\u001b[0m\u001b[1;33m,\u001b[0m \u001b[0mCrew\u001b[0m\u001b[1;33m,\u001b[0m \u001b[0mTask\u001b[0m\u001b[1;33m,\u001b[0m \u001b[0mProcess\u001b[0m\u001b[1;33m\u001b[0m\u001b[1;33m\u001b[0m\u001b[0m\n\u001b[0m",
      "\u001b[1;31mModuleNotFoundError\u001b[0m: No module named 'crewai'"
     ]
    }
   ],
   "source": [
    "from crewai import Agent, Crew, Task, Process"
   ]
  },
  {
   "cell_type": "code",
   "execution_count": null,
   "id": "7911cc5a",
   "metadata": {},
   "outputs": [],
   "source": [
    "from crewai_tools import ScrapeWebsiteTool, SerperDevTool, YoutubeVideoSearchTool\n",
    "\n",
    "# Initialize the tools\n",
    "search_tool = SerperDevTool(serper_api_key=serper_api_key)\n",
    "scrape_tool = ScrapeWebsiteTool()\n",
    "# youtube_tool = YoutubeVideoSearchTool()"
   ]
  },
  {
   "cell_type": "markdown",
   "id": "e1b61eee",
   "metadata": {},
   "source": [
    "# Defining Agents"
   ]
  },
  {
   "cell_type": "code",
   "execution_count": 2,
   "id": "60bc2cc8",
   "metadata": {},
   "outputs": [
    {
     "ename": "NameError",
     "evalue": "name 'Agent' is not defined",
     "output_type": "error",
     "traceback": [
      "\u001b[1;31m---------------------------------------------------------------------------\u001b[0m",
      "\u001b[1;31mNameError\u001b[0m                                 Traceback (most recent call last)",
      "\u001b[1;32m~\\AppData\\Local\\Temp\\ipykernel_24300\\496847342.py\u001b[0m in \u001b[0;36m<module>\u001b[1;34m\u001b[0m\n\u001b[0;32m      1\u001b[0m \u001b[1;31m# Agent 1: attraction finder\u001b[0m\u001b[1;33m\u001b[0m\u001b[1;33m\u001b[0m\u001b[0m\n\u001b[1;32m----> 2\u001b[1;33m attraction_finder = Agent(\n\u001b[0m\u001b[0;32m      3\u001b[0m     \u001b[0mrole\u001b[0m\u001b[1;33m=\u001b[0m\u001b[1;34m\"Activity & attraction finder\"\u001b[0m\u001b[1;33m,\u001b[0m\u001b[1;33m\u001b[0m\u001b[1;33m\u001b[0m\u001b[0m\n\u001b[0;32m      4\u001b[0m     \u001b[0mgoal\u001b[0m\u001b[1;33m=\u001b[0m\u001b[1;34m\"Identify best places for travelling and exploring the given destination.\"\u001b[0m\u001b[1;33m,\u001b[0m\u001b[1;33m\u001b[0m\u001b[1;33m\u001b[0m\u001b[0m\n\u001b[0;32m      5\u001b[0m     \u001b[0mtools\u001b[0m\u001b[1;33m=\u001b[0m\u001b[1;33m[\u001b[0m\u001b[0msearch_tool\u001b[0m\u001b[1;33m,\u001b[0m \u001b[0mscrape_tool\u001b[0m\u001b[1;33m]\u001b[0m\u001b[1;33m,\u001b[0m\u001b[1;33m\u001b[0m\u001b[1;33m\u001b[0m\u001b[0m\n",
      "\u001b[1;31mNameError\u001b[0m: name 'Agent' is not defined"
     ]
    }
   ],
   "source": [
    "# Agent 1: attraction finder\n",
    "attraction_finder = Agent(\n",
    "    role=\"Activity & attraction finder\",\n",
    "    goal=\"Identify best places for travelling and exploring the given destination.\",\n",
    "    tools=[search_tool, scrape_tool],\n",
    "    verbose=True,\n",
    "    backstory=(\n",
    "        \"\"\"\n",
    "        Your task is to find top places to travel at destination. These places might include adventure, cultural sites,spiritual places, food places, natural beauty, shopping. \n",
    "        Also find places based on traveller's Interest and activities.\n",
    "        At the end make list of these places, for each place write 1) name of the place 2) Location 3) Average cost 4) type of the place(whether it is cultural site,adventure, spiritual place etc.) 5) average rating.\n",
    "        \"\"\"\n",
    "    ),\n",
    "    llm=ChatGroq(groq_api_key=groq_api_key,\n",
    "               model_name=\"llama3-8b-8192\")\n",
    ")"
   ]
  },
  {
   "cell_type": "code",
   "execution_count": 5,
   "id": "67fec5a7",
   "metadata": {},
   "outputs": [
    {
     "ename": "NameError",
     "evalue": "name 'Agent' is not defined",
     "output_type": "error",
     "traceback": [
      "\u001b[1;31m---------------------------------------------------------------------------\u001b[0m",
      "\u001b[1;31mNameError\u001b[0m                                 Traceback (most recent call last)",
      "\u001b[1;32m~\\AppData\\Local\\Temp\\ipykernel_24300\\1566588441.py\u001b[0m in \u001b[0;36m<module>\u001b[1;34m\u001b[0m\n\u001b[0;32m      1\u001b[0m \u001b[1;31m# Agent 2: Itinerary planner\u001b[0m\u001b[1;33m\u001b[0m\u001b[1;33m\u001b[0m\u001b[0m\n\u001b[1;32m----> 2\u001b[1;33m itinerary_planner = Agent(\n\u001b[0m\u001b[0;32m      3\u001b[0m     \u001b[0mrole\u001b[0m\u001b[1;33m=\u001b[0m\u001b[1;34m\"Itinerary planner\"\u001b[0m\u001b[1;33m,\u001b[0m\u001b[1;33m\u001b[0m\u001b[1;33m\u001b[0m\u001b[0m\n\u001b[0;32m      4\u001b[0m     \u001b[0mgoal\u001b[0m\u001b[1;33m=\u001b[0m\u001b[1;34m\"Create day to day plan for traveller like on which day traveller will go to which places. Also find accommodation place to stay at each night.\"\u001b[0m\u001b[1;33m,\u001b[0m\u001b[1;33m\u001b[0m\u001b[1;33m\u001b[0m\u001b[0m\n\u001b[0;32m      5\u001b[0m     \u001b[0mtools\u001b[0m\u001b[1;33m=\u001b[0m\u001b[1;33m[\u001b[0m\u001b[0msearch_tool\u001b[0m\u001b[1;33m,\u001b[0m \u001b[0mscrape_tool\u001b[0m\u001b[1;33m]\u001b[0m\u001b[1;33m,\u001b[0m\u001b[1;33m\u001b[0m\u001b[1;33m\u001b[0m\u001b[0m\n",
      "\u001b[1;31mNameError\u001b[0m: name 'Agent' is not defined"
     ]
    }
   ],
   "source": [
    "# Agent 2: Itinerary planner\n",
    "itinerary_planner = Agent(\n",
    "    role=\"Itinerary planner\",\n",
    "    goal=\"Create day to day plan for traveller like on which day traveller will go to which places. Also find accommodation place to stay at each night.\",\n",
    "    tools=[search_tool, scrape_tool],\n",
    "    verbose=True,\n",
    "    allow_delegation=True,\n",
    "    backstory=(\n",
    "        \"\"\"\n",
    "        Your task is to create day to day plan based on places found by Activity & attraction finder. For an example...\n",
    "        Day-1 : traveller will visit this place,then this place, eat at this place, go to this park and stay at this place at night.\n",
    "        Day-2 : traveller will have breakfast at this place,then go to this place,go to this temple and will have accommodation at this place.\n",
    "        and so on.. for number of days\n",
    "        Note that this is just an example or format. Means this way you have to create a day to day activity plan for traveller.\n",
    "        Also try to keep place which are nearer to each other on same day, but don't keep too many places for one day and find accommodation place for that day based on accommodation preference of traveller.\n",
    "        \"\"\"\n",
    "    ),\n",
    "    llm=llm\n",
    ")"
   ]
  },
  {
   "cell_type": "code",
   "execution_count": null,
   "id": "47e6f6a5",
   "metadata": {},
   "outputs": [],
   "source": [
    "# Agent 3: Transportation Manager\n",
    "transportation_manager = Agent(\n",
    "    role=\"Transportation Manager\",\n",
    "    goal=\"Identify the means of transportations based on plan decided by Itinerary planner.\",\n",
    "    tools=[search_tool],\n",
    "    verbose=True,\n",
    "    allow_delegation=True,\n",
    "    backstory=(\n",
    "        \"\"\"\n",
    "        Find out the means of transportations and best paths for going to places decided by Itinerary planner.\n",
    "        Try to minimize transportation time so that traveller can spend maximum time on enjoying various tourist places.\n",
    "        Note that trip starts from starting point so also decide that how traveller will go from starting point to the destination.\n",
    "        Also keep in mind his transportation preferences and find how he can go from one place to another place to maximise his comfort and enjoyment.\n",
    "        Also communicate with Itinerary planner for better planning and then give final plan by adding that how traveller will travel to all these places in the plan made by Itinerary planner.\n",
    "        \"\"\"\n",
    "    ),\n",
    "    llm=llm\n",
    ")"
   ]
  },
  {
   "cell_type": "markdown",
   "id": "fff5bf6f",
   "metadata": {},
   "source": [
    "# Tasks"
   ]
  },
  {
   "cell_type": "code",
   "execution_count": null,
   "id": "8ad9a8b0",
   "metadata": {},
   "outputs": [],
   "source": [
    "activity_task = Task(\n",
    "    description=\"\"\"Find out best activities & attractions for travelling at destination {Destination} ,\n",
    "                for number of days={Number of days}, number of persons={Number of persons} and\n",
    "                by keeping in mind that traveller's interest of area is {Interests and activities}.\"\"\",\n",
    "    expected_output=\"Best places to explore and travel at given destination and for each place I want 1) name of the place 2) Location 3) Average cost 4) type of the place(whether it is cultural site,adventure, spiritual place etc.) 5) average rating.\n",
    "        \",\n",
    "    agent=attraction_finder\n",
    ")"
   ]
  },
  {
   "cell_type": "code",
   "execution_count": null,
   "id": "bed4a925",
   "metadata": {},
   "outputs": [],
   "source": [
    "planning_task = Task(\n",
    "    description=\"\"\"Your job is to create best day by day plan based on places found by Activity & attraction finder.\n",
    "                    This plan should contain every details about which places traveller will visit, where he will eat for lunch and dinner also where he will have accommodation.\n",
    "                    Note that number of persons={Number of persons} and number of days in trip={Number of days}.\"\"\",\n",
    "    expected_output=\"Detailed plan containing every details about which places traveller will visit, where he will eat for lunch and dinner and where he will stay for each day.\",\n",
    "    # async_execution=True,\n",
    "    context=[activity_task],\n",
    "    agent=itinerary_planner\n",
    ")"
   ]
  },
  {
   "cell_type": "code",
   "execution_count": null,
   "id": "0f00897c",
   "metadata": {},
   "outputs": [],
   "source": [
    "transportation_task = Task(\n",
    "    description=\"\"\"Your job is to add how traveller will do transportation to various places in plan decided by Itinerary planner.\n",
    "                    Based on traveller's requirements Mode of transportation is by {Mode of transportation} and local transportation requirements are {Local transportation}.\n",
    "                    Also note that starting point is {Trip starting point} and destination is {Destination}.\n",
    "                    Comfortable Travellling dates are {Travel dates}.\n",
    "                    Also note that first travellers will start their journey from starting point which is {Trip starting point} and then go to the destination {Destination} via {Mode of transportation}. And they will use local transportation = {Local transportation} to travel on various places at destination.\n",
    "                    Note that number of persons={Number of persons} and number of days in trip={Number of days}.\n",
    "                    \"\"\",\n",
    "    expected_output=\"Final plan by adding how traveller will do transportation to various places in plan generated by Itinerary planner.\",\n",
    "    # async_execution=True,\n",
    "    context=[planning_task],\n",
    "    agent=transportation_manager\n",
    ")"
   ]
  },
  {
   "cell_type": "code",
   "execution_count": null,
   "id": "c12282e0",
   "metadata": {},
   "outputs": [],
   "source": [
    "# Trip starting point : the city or location where the trip begin\n",
    "# Destination : The city or location where the trip is planned\n",
    "# Number of days\n",
    "# Number of persons\n",
    "# Budget\n",
    "# Travel dates : specific start & end dates\n",
    "# Mode of Transportation : preferred means of travel (flight/train/car)\n",
    "# Accommodation preferences : type of lodging (hotel/hostel/Airbnb)\n",
    "# Interests and activities : Preferred activities or area of interests (adventure/cultural sites/relaxation/shopping)\n",
    "# Meal preference : Dietary restrictions or allergic food or any meal preference\n",
    "# Special requirements\n",
    "# Local transportation : preference for getting around the destination (renting a car/using public transport/walking)\n",
    "\n",
    "trip_panner_input = {\n",
    "    'Trip starting point' : 'Surat,Gujarat,India',\n",
    "    'Destination' : 'Ahmedabad,Gujarat,India',\n",
    "    'Number of days' : '3',\n",
    "    'Number of persons' : '2',\n",
    "    'Mode of transportation' : 'train',\n",
    "    'Accomodation preferences' : 'hotel',\n",
    "    'Interests and activities' : '1st priority is exploring the place, 2nd priority is Food and 3rd priority is shopping',\n",
    "    'Local transportation' : '1st priority is using public transport, 2nd priority is booking a cab and 3rd priority is walking'\n",
    "}"
   ]
  },
  {
   "cell_type": "code",
   "execution_count": null,
   "id": "a2dc970c",
   "metadata": {},
   "outputs": [],
   "source": [
    "trip_planner_crew = Crew(\n",
    "    agents=[attraction_finder,\n",
    "            itinerary_planner,\n",
    "            transportation_manager],\n",
    "\n",
    "    tasks=[activity_task,\n",
    "          planning_task,\n",
    "          transportation_task],\n",
    "\n",
    "    manager_llm=ChatGroq(groq_api_key=groq_api_key,\n",
    "               model_name=\"mixtral-8x7b-32768\"),\n",
    "\n",
    "    process=Process.hierarchical,\n",
    "    verbose=True\n",
    ")"
   ]
  },
  {
   "cell_type": "code",
   "execution_count": null,
   "id": "aae5bc8e",
   "metadata": {},
   "outputs": [],
   "source": [
    "result = trip_planner_crew.kickoff(inputs=trip_panner_input)"
   ]
  },
  {
   "cell_type": "code",
   "execution_count": null,
   "id": "6583a957",
   "metadata": {},
   "outputs": [],
   "source": [
    "from IPython.display import Markdown\n",
    "Markdown(result)"
   ]
  }
 ],
 "metadata": {
  "kernelspec": {
   "display_name": "Python 3 (ipykernel)",
   "language": "python",
   "name": "python3"
  },
  "language_info": {
   "codemirror_mode": {
    "name": "ipython",
    "version": 3
   },
   "file_extension": ".py",
   "mimetype": "text/x-python",
   "name": "python",
   "nbconvert_exporter": "python",
   "pygments_lexer": "ipython3",
   "version": "3.9.13"
  }
 },
 "nbformat": 4,
 "nbformat_minor": 5
}
